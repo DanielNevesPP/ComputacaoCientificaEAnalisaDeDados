{
 "cells": [
  {
   "cell_type": "code",
   "execution_count": null,
   "metadata": {},
   "outputs": [],
   "source": [
    "#Exercício 1"
   ]
  },
  {
   "cell_type": "code",
   "execution_count": null,
   "metadata": {},
   "outputs": [],
   "source": [
    "#Usando T0 = 34 e Tf = 20, manipulamos a equação e achamos que  t*k = log(14/(T-20)) = A\n",
    "#Começando às 15h como o tempo t = 0, sendo t medido em horas\n",
    "tempos = [0; 1.5; 2.5]\n",
    "A = [0; log(14/10); log(14/5)]"
   ]
  }
 ],
 "metadata": {
  "kernelspec": {
   "display_name": "Julia 1.9.3",
   "language": "julia",
   "name": "julia-1.9"
  },
  "language_info": {
   "file_extension": ".jl",
   "mimetype": "application/julia",
   "name": "julia",
   "version": "1.9.3"
  }
 },
 "nbformat": 4,
 "nbformat_minor": 2
}
